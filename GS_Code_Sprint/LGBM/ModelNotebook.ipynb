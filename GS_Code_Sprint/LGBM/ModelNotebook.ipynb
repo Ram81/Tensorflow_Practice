{
 "cells": [
  {
   "cell_type": "code",
   "execution_count": 4,
   "metadata": {},
   "outputs": [],
   "source": [
    "import pandas as pd\n",
    "import numpy as np\n",
    "import seaborn as sns\n",
    "import matplotlib.pyplot as plt\n",
    "%matplotlib inline"
   ]
  },
  {
   "cell_type": "code",
   "execution_count": 5,
   "metadata": {},
   "outputs": [],
   "source": [
    "df=pd.read_csv('data/train.csv')\n",
    "test=pd.read_csv('data/test.csv')"
   ]
  },
  {
   "cell_type": "code",
   "execution_count": 6,
   "metadata": {},
   "outputs": [],
   "source": [
    "from imblearn.over_sampling import SMOTE\n",
    "\n",
    "X=df.iloc[:,0:6].values\n",
    "y=df.iloc[:,6].values"
   ]
  },
  {
   "cell_type": "code",
   "execution_count": 32,
   "metadata": {},
   "outputs": [
    {
     "data": {
      "text/plain": [
       "LGBMClassifier(boosting_type='gbdt', class_weight=None, colsample_bytree=0.8,\n",
       "        learning_rate=0.1, max_bin=10, max_depth=12, min_child_samples=20,\n",
       "        min_child_weight=0.001, min_split_gain=0.0, n_estimators=1024,\n",
       "        n_jobs=-1, num_leaves=2048, objective='multi:softprob',\n",
       "        random_state=None, reg_alpha=0.0, reg_lambda=0.0, silent=True,\n",
       "        subsample=1.0, subsample_for_bin=200000, subsample_freq=1)"
      ]
     },
     "execution_count": 32,
     "metadata": {},
     "output_type": "execute_result"
    }
   ],
   "source": [
    "import lightgbm as lgb\n",
    "light=lgb.LGBMClassifier(max_depth=12, max_bin=10, num_leaves=2048, colsample_bytree=0.8, objective='multi:softprob', n_estimators=1024)\n",
    "light.fit(X,y)"
   ]
  },
  {
   "cell_type": "code",
   "execution_count": 33,
   "metadata": {},
   "outputs": [],
   "source": [
    "lpred=light.predict(test)\n",
    "submissions=pd.DataFrame(columns=['popularity'])\n",
    "submissions['popularity']=lpred\n",
    "submissions.to_csv('predictions.csv', index=False, header=False)"
   ]
  },
  {
   "cell_type": "code",
   "execution_count": 9,
   "metadata": {},
   "outputs": [
    {
     "name": "stdout",
     "output_type": "stream",
     "text": [
      "[LibSVM]"
     ]
    }
   ],
   "source": [
    "from sklearn import svm\n",
    "model = svm.SVC(kernel='rbf', verbose=True)\n",
    "model.fit(X,y)\n",
    "y_pred=model.predict(test)"
   ]
  },
  {
   "cell_type": "code",
   "execution_count": 10,
   "metadata": {},
   "outputs": [
    {
     "name": "stdout",
     "output_type": "stream",
     "text": [
      "[2 1 1 2 1 4 3 4 1 2 3 4 3 1 3 1 2 1 2 2 3 3 4 2 3 2 4 2 3 2 1 3 4 4 1 3 4\n",
      " 1 4 4 1 3 2 2 1 1 2 3 1 1 2 2 1 2 2 1 1 4 2 4 2 3 2 4 2 4 1 1 2 2 4 2 1 2\n",
      " 1 1 4 2 3 2 4 3 3 4 4 4 2 4 2 1 2 2 2 4 1 2 4 4 1]\n"
     ]
    }
   ],
   "source": [
    "print(y_pred)\n",
    "submissions=pd.DataFrame(columns=['popularity'])\n",
    "submissions['popularity']=y_pred\n",
    "submissions.to_csv('predictions.csv', index=False, header=False)"
   ]
  },
  {
   "cell_type": "code",
   "execution_count": null,
   "metadata": {},
   "outputs": [],
   "source": []
  }
 ],
 "metadata": {
  "kernelspec": {
   "display_name": "Python 3",
   "language": "python",
   "name": "python3"
  },
  "language_info": {
   "codemirror_mode": {
    "name": "ipython",
    "version": 3
   },
   "file_extension": ".py",
   "mimetype": "text/x-python",
   "name": "python",
   "nbconvert_exporter": "python",
   "pygments_lexer": "ipython3",
   "version": "3.5.4"
  }
 },
 "nbformat": 4,
 "nbformat_minor": 2
}
