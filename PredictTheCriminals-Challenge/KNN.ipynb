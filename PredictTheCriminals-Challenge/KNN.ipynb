{
 "cells": [
  {
   "cell_type": "code",
   "execution_count": 1,
   "metadata": {},
   "outputs": [],
   "source": [
    "import csv\n",
    "import numpy as np\n",
    "\n",
    "from sklearn.neural_network import MLPClassifier\n",
    "from sklearn.model_selection import train_test_split\n",
    "from sklearn.preprocessing import normalize\n",
    "from sklearn.neighbors import KNeighborsClassifier\n",
    "\n",
    "# load data\n",
    "def read_data(path):\n",
    "    return csv.reader(open(path, 'r'), delimiter=',')"
   ]
  },
  {
   "cell_type": "code",
   "execution_count": 2,
   "metadata": {},
   "outputs": [],
   "source": [
    "# preprocessing data\n",
    "train_data = read_data(\"csv/train.csv\")\n",
    "\n",
    "X_train = []\n",
    "Y_train = []\n",
    "X_test = []\n",
    "Y_test = []\n",
    "flag = 1\n",
    "for i in train_data:\n",
    "    if (flag == 1):\n",
    "        flag = 0\n",
    "        continue\n",
    "    temp = list(map(float,i))\n",
    "    X_train.append(temp[:len(temp)-1])\n",
    "    Y_train.append(temp[len(temp)-1])\n",
    "\n",
    "X_train = np.array(X_train)\n",
    "Y_train = np.array(Y_train)\n",
    "\n",
    "# Train & cross validation split\n",
    "X_train, X_test, Y_train, Y_test = train_test_split(X_train, Y_train, test_size=0.2, random_state=42)\n",
    "\n",
    "X_train = normalize(X_train, norm='l1', axis=0)\n",
    "X_test = normalize(X_test, norm='l1', axis=0)"
   ]
  },
  {
   "cell_type": "code",
   "execution_count": 3,
   "metadata": {},
   "outputs": [],
   "source": [
    "# implementing naive bayes model\n",
    "\n",
    "model = KNeighborsClassifier(n_neighbors=7)\n",
    "model_fit = model.fit(X_train, Y_train)\n",
    "Y_pred = model_fit.predict(X_test)"
   ]
  },
  {
   "cell_type": "code",
   "execution_count": 4,
   "metadata": {},
   "outputs": [
    {
     "name": "stdout",
     "output_type": "stream",
     "text": [
      "(9144,)\n"
     ]
    }
   ],
   "source": [
    "# Generate CSV\n",
    "test_data = read_data(\"csv/test.csv\")\n",
    "\n",
    "X_test = []\n",
    "flag = 0\n",
    "for i in test_data:\n",
    "    if (flag == 0):\n",
    "        flag = 1\n",
    "        continue\n",
    "    X_test.append(list(map(float,i)))\n",
    "\n",
    "X_test = normalize(X_test, norm='l1', axis=0)\n",
    "\n",
    "\n",
    "solution = []\n",
    "solution.append(['PERID', 'Criminal'])\n",
    "\n",
    "print(Y_test.shape)"
   ]
  },
  {
   "cell_type": "code",
   "execution_count": 5,
   "metadata": {},
   "outputs": [
    {
     "name": "stdout",
     "output_type": "stream",
     "text": [
      "(11430,)\n"
     ]
    }
   ],
   "source": [
    "# Save Results\n",
    "Y_test = model.predict(X_test)\n",
    "print(Y_test.shape)\n",
    "test_data = read_data(\"csv/test.csv\")\n",
    "\n",
    "with open(\"result.csv\", \"w\") as fobj:\n",
    "    writer = csv.writer(fobj, delimiter=',')\n",
    "    temp_id = []\n",
    "    temp_class  = []\n",
    "    flag = 0\n",
    "    for i in test_data:\n",
    "        if (flag == 0):\n",
    "            flag=1\n",
    "            continue\n",
    "        temp_id.append(i[0])\n",
    "    for i in Y_test:\n",
    "        if(i>0.5):\n",
    "            temp_class.append(str(1))\n",
    "        else:\n",
    "            temp_class.append(str(0))\n",
    "    for i in range(len(temp_id)):\n",
    "        temp = [str(temp_id[i]), str(temp_class[i])]\n",
    "        solution.append(temp)\n",
    "    for i in solution:\n",
    "        writer.writerow(i)"
   ]
  },
  {
   "cell_type": "code",
   "execution_count": null,
   "metadata": {},
   "outputs": [],
   "source": []
  }
 ],
 "metadata": {
  "kernelspec": {
   "display_name": "Python 3",
   "language": "python",
   "name": "python3"
  },
  "language_info": {
   "codemirror_mode": {
    "name": "ipython",
    "version": 3
   },
   "file_extension": ".py",
   "mimetype": "text/x-python",
   "name": "python",
   "nbconvert_exporter": "python",
   "pygments_lexer": "ipython3",
   "version": "3.5.4"
  }
 },
 "nbformat": 4,
 "nbformat_minor": 2
}
