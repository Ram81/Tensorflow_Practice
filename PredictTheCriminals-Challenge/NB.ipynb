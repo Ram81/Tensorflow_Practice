{
 "cells": [
  {
   "cell_type": "code",
   "execution_count": 2,
   "metadata": {},
   "outputs": [],
   "source": [
    "import csv\n",
    "import numpy as np\n",
    "from sklearn.naive_bayes import GaussianNB, MultinomialNB, BernoulliNB\n",
    "\n",
    "# load data\n",
    "def read_data(path):\n",
    "    return csv.reader(open(path, 'r'), delimiter=',')"
   ]
  },
  {
   "cell_type": "code",
   "execution_count": 9,
   "metadata": {},
   "outputs": [],
   "source": [
    "# preprocessing data\n",
    "train_data = read_data(\"csv/train.csv\")\n",
    "test_data = read_data(\"csv/test.csv\")\n",
    "\n",
    "X_train = []\n",
    "Y_train = []\n",
    "X_test = []\n",
    "Y_test = []\n",
    "flag = 1\n",
    "for i in train_data:\n",
    "    if (flag == 1):\n",
    "        flag = 0\n",
    "        continue\n",
    "    temp = list(map(float,i))\n",
    "    X_train.append(temp[:len(temp)-1])\t\n",
    "    Y_train.append(temp[len(temp)-1])\n",
    "    \n",
    "for i in test_data:\n",
    "    if (flag == 0):\n",
    "        flag = 1\n",
    "        continue\n",
    "    X_test.append(list(map(float,i)))\n",
    "\n",
    "# implementing naive bayes model\n",
    "model = GaussianNB()\n",
    "model_fit = model.fit(X_train, Y_train)\n",
    "Y_pred = model_fit.predict(X_train)\n",
    "Y_test = model_fit.predict(X_test)"
   ]
  },
  {
   "cell_type": "code",
   "execution_count": 10,
   "metadata": {},
   "outputs": [],
   "source": [
    "\n",
    "# Generate CSV\n",
    "train_data = read_data(\"csv/train.csv\")\n",
    "test_data = read_data(\"csv/test.csv\")\n",
    "\n",
    "solution = []\n",
    "solution.append(['PERID', 'Criminal'])\n",
    "\n",
    "with open(\"result.csv\", \"w\") as fobj:\n",
    "    writer = csv.writer(fobj, delimiter=',')\n",
    "    temp_id = []\n",
    "    temp_class  = []\n",
    "    flag = 0\n",
    "    for i in test_data:\n",
    "        if (flag == 0):\n",
    "            flag=1\n",
    "            continue\n",
    "        temp_id.append(i[0])\n",
    "    for i in Y_test:\n",
    "        temp_class.append(str(i))\n",
    "    for i in range(len(temp_id)):\n",
    "        temp = [str(temp_id[i]), str(temp_class[i])]\n",
    "        solution.append(temp)\n",
    "    for i in solution:\n",
    "        writer.writerow(i)"
   ]
  },
  {
   "cell_type": "code",
   "execution_count": null,
   "metadata": {},
   "outputs": [],
   "source": []
  }
 ],
 "metadata": {
  "kernelspec": {
   "display_name": "Python 3",
   "language": "python",
   "name": "python3"
  },
  "language_info": {
   "codemirror_mode": {
    "name": "ipython",
    "version": 3
   },
   "file_extension": ".py",
   "mimetype": "text/x-python",
   "name": "python",
   "nbconvert_exporter": "python",
   "pygments_lexer": "ipython3",
   "version": "3.5.4"
  }
 },
 "nbformat": 4,
 "nbformat_minor": 2
}
