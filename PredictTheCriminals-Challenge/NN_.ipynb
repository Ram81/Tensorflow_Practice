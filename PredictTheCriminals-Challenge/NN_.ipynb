{
 "cells": [
  {
   "cell_type": "code",
   "execution_count": 37,
   "metadata": {},
   "outputs": [],
   "source": [
    "import csv\n",
    "import numpy as np\n",
    "\n",
    "from sklearn.neural_network import MLPClassifier\n",
    "from sklearn.model_selection import train_test_split\n",
    "from sklearn.preprocessing import normalize\n",
    "\n",
    "# load data\n",
    "def read_data(path):\n",
    "    return csv.reader(open(path, 'r'), delimiter=',')"
   ]
  },
  {
   "cell_type": "code",
   "execution_count": 38,
   "metadata": {},
   "outputs": [],
   "source": [
    "# preprocessing data\n",
    "train_data = read_data(\"csv/train.csv\")\n",
    "\n",
    "X_train = []\n",
    "Y_train = []\n",
    "X_test = []\n",
    "Y_test = []\n",
    "flag = 1\n",
    "for i in train_data:\n",
    "    if (flag == 1):\n",
    "        flag = 0\n",
    "        continue\n",
    "    temp = list(map(float,i))\n",
    "    X_train.append(temp[:len(temp)-1])\n",
    "    Y_train.append(temp[len(temp)-1])\n",
    "\n",
    "X_train = np.array(X_train)\n",
    "Y_train = np.array(Y_train)\n",
    "\n",
    "# Train & cross validation split\n",
    "X_train, X_test, Y_train, Y_test = train_test_split(X_train, Y_train, test_size=0.2, random_state=42)\n",
    "\n",
    "X_train = normalize(X_train, norm='l1', axis=0)\n",
    "X_test = normalize(X_test, norm='l1', axis=0)"
   ]
  },
  {
   "cell_type": "code",
   "execution_count": 39,
   "metadata": {},
   "outputs": [
    {
     "name": "stdout",
     "output_type": "stream",
     "text": [
      "Iteration 1, loss = 0.69806863\n",
      "Iteration 2, loss = 0.61874679\n",
      "Iteration 3, loss = 0.55753668\n",
      "Iteration 4, loss = 0.50647601\n",
      "Iteration 5, loss = 0.45957827\n",
      "Iteration 6, loss = 0.41708174\n",
      "Iteration 7, loss = 0.37952030\n",
      "Iteration 8, loss = 0.34754387\n",
      "Iteration 9, loss = 0.32221581\n",
      "Iteration 10, loss = 0.30203019\n",
      "Iteration 11, loss = 0.28649468\n",
      "Iteration 12, loss = 0.27503363\n",
      "Iteration 13, loss = 0.26696780\n",
      "Iteration 14, loss = 0.26155609\n",
      "Iteration 15, loss = 0.25810356\n",
      "Iteration 16, loss = 0.25602222\n",
      "Iteration 17, loss = 0.25484193\n",
      "Iteration 18, loss = 0.25421341\n",
      "Iteration 19, loss = 0.25389054\n",
      "Iteration 20, loss = 0.25373489\n",
      "Iteration 21, loss = 0.25366387\n",
      "Iteration 22, loss = 0.25363095\n",
      "Iteration 23, loss = 0.25362234\n",
      "Training loss did not improve more than tol=0.000100 for two consecutive epochs. Stopping.\n"
     ]
    }
   ],
   "source": [
    "# implementing naive bayes model\n",
    "\n",
    "model = MLPClassifier(hidden_layer_sizes=(120, 256, 64,), activation='relu', solver='adam', max_iter=120, shuffle=True, verbose=True, learning_rate_init=1e-5)\n",
    "model_fit = model.fit(X_train, Y_train)\n",
    "Y_pred = model_fit.predict(X_test)"
   ]
  },
  {
   "cell_type": "code",
   "execution_count": 40,
   "metadata": {},
   "outputs": [
    {
     "name": "stdout",
     "output_type": "stream",
     "text": [
      "(9144,)\n"
     ]
    }
   ],
   "source": [
    "# Generate CSV\n",
    "test_data = read_data(\"csv/test.csv\")\n",
    "\n",
    "X_test = []\n",
    "flag = 0\n",
    "for i in test_data:\n",
    "    if (flag == 0):\n",
    "        flag = 1\n",
    "        continue\n",
    "    X_test.append(list(map(float,i)))\n",
    "\n",
    "X_test = normalize(X_test, norm='l2', axis=0)\n",
    "\n",
    "\n",
    "solution = []\n",
    "solution.append(['PERID', 'Criminal'])\n",
    "\n",
    "print(Y_test.shape)"
   ]
  },
  {
   "cell_type": "code",
   "execution_count": 41,
   "metadata": {},
   "outputs": [
    {
     "name": "stdout",
     "output_type": "stream",
     "text": [
      "(11430,)\n"
     ]
    }
   ],
   "source": [
    "# Save Results\n",
    "Y_test = model.predict(X_test)\n",
    "print(Y_test.shape)\n",
    "test_data = read_data(\"csv/test.csv\")\n",
    "\n",
    "with open(\"result.csv\", \"w\") as fobj:\n",
    "    writer = csv.writer(fobj, delimiter=',')\n",
    "    temp_id = []\n",
    "    temp_class  = []\n",
    "    flag = 0\n",
    "    for i in test_data:\n",
    "        if (flag == 0):\n",
    "            flag=1\n",
    "            continue\n",
    "        temp_id.append(i[0])\n",
    "    for i in Y_test:\n",
    "        if(i>0.5):\n",
    "            temp_class.append(str(1))\n",
    "        else:\n",
    "            temp_class.append(str(0))\n",
    "    for i in range(len(temp_id)):\n",
    "        temp = [str(temp_id[i]), str(temp_class[i])]\n",
    "        solution.append(temp)\n",
    "    for i in solution:\n",
    "        writer.writerow(i)"
   ]
  },
  {
   "cell_type": "code",
   "execution_count": null,
   "metadata": {},
   "outputs": [],
   "source": []
  },
  {
   "cell_type": "code",
   "execution_count": null,
   "metadata": {},
   "outputs": [],
   "source": []
  }
 ],
 "metadata": {
  "kernelspec": {
   "display_name": "Python 3",
   "language": "python",
   "name": "python3"
  },
  "language_info": {
   "codemirror_mode": {
    "name": "ipython",
    "version": 3
   },
   "file_extension": ".py",
   "mimetype": "text/x-python",
   "name": "python",
   "nbconvert_exporter": "python",
   "pygments_lexer": "ipython3",
   "version": "3.5.4"
  }
 },
 "nbformat": 4,
 "nbformat_minor": 2
}
