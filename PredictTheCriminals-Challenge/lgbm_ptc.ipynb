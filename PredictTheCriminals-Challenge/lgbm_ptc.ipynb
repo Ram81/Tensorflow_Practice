{
 "cells": [
  {
   "cell_type": "code",
   "execution_count": 1,
   "metadata": {},
   "outputs": [],
   "source": [
    "import pandas as pd\n",
    "import numpy as np\n",
    "import seaborn as sns\n",
    "import matplotlib.pyplot as plt\n",
    "%matplotlib inline"
   ]
  },
  {
   "cell_type": "code",
   "execution_count": 2,
   "metadata": {},
   "outputs": [],
   "source": [
    "train=pd.read_csv('csv/train.csv')\n",
    "test=pd.read_csv('csv/test.csv')"
   ]
  },
  {
   "cell_type": "code",
   "execution_count": 3,
   "metadata": {},
   "outputs": [],
   "source": [
    "ls=[]\n",
    "ls2=[]\n",
    "for x in train.columns:\n",
    "    if 'II' in x:\n",
    "        ls.append(x)\n",
    "        \n",
    "ls2=ls[0:len(ls)-2]\n",
    "ls2.append(ls[-1])\n",
    "train.drop(ls2, axis=1, inplace=True)\n",
    "test.drop(ls2, axis=1, inplace=True)"
   ]
  },
  {
   "cell_type": "code",
   "execution_count": 4,
   "metadata": {},
   "outputs": [],
   "source": [
    "train.drop(['HLNVCOST','HLNVOFFR','HLNVREF','HLNVNEED','ANYHLTI2','HLCNOTMO','NRCH17_2','HLCALLFG','HLCLAST','HLLOSRSN','PDEN10','PRXRETRY','IRFAMSSI','IROTHHLT','IRINSUR4','CELLNOTCL','HLTINNOS'], axis=1, inplace=True)\n",
    "test.drop(['HLNVCOST','HLNVOFFR','HLNVREF','HLNVNEED','ANYHLTI2','HLCNOTMO','NRCH17_2','HLCALLFG','HLCLAST','HLLOSRSN','PDEN10','PRXRETRY','IRFAMSSI','IROTHHLT','IRINSUR4','CELLNOTCL','HLTINNOS'], axis=1, inplace=True)"
   ]
  },
  {
   "cell_type": "code",
   "execution_count": 6,
   "metadata": {},
   "outputs": [],
   "source": [
    "import lightgbm as lgb\n",
    "light=lgb.LGBMClassifier()\n",
    "light.fit(train.drop('Criminal', axis=1),train['Criminal'])\n",
    "lpred=light.predict(test)\n",
    "submissions=pd.DataFrame(columns=['PERID', 'Criminal'])\n",
    "submissions['PERID']=test['PERID']\n",
    "submissions['Criminal']=lpred\n",
    "submissions.to_csv('lgb_final.csv', index=False)"
   ]
  },
  {
   "cell_type": "code",
   "execution_count": null,
   "metadata": {},
   "outputs": [],
   "source": [
    "# Accuracy achieved 95.433%"
   ]
  }
 ],
 "metadata": {
  "kernelspec": {
   "display_name": "Python 3",
   "language": "python",
   "name": "python3"
  },
  "language_info": {
   "codemirror_mode": {
    "name": "ipython",
    "version": 3
   },
   "file_extension": ".py",
   "mimetype": "text/x-python",
   "name": "python",
   "nbconvert_exporter": "python",
   "pygments_lexer": "ipython3",
   "version": "3.5.4"
  }
 },
 "nbformat": 4,
 "nbformat_minor": 2
}
